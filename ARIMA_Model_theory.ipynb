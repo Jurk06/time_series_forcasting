{
  "nbformat": 4,
  "nbformat_minor": 0,
  "metadata": {
    "colab": {
      "name": "ARIMA_Model_theory.ipynb",
      "provenance": []
    },
    "kernelspec": {
      "name": "python3",
      "display_name": "Python 3"
    }
  },
  "cells": [
    {
      "cell_type": "markdown",
      "metadata": {
        "id": "6qIYDcq-zbZJ"
      },
      "source": [
        "**Introduction to ARIMA Models**\r\n",
        "So what exactly is an ARIMA model?\r\n",
        "\r\n",
        "ARIMA, short for ‘Auto Regressive Integrated Moving Average’ is actually a class of models that ‘explains’ a given time series based on its own past values, that is, its own lags and the lagged forecast errors, so that equation can be used to forecast future values.\r\n",
        "\r\n",
        "Any ‘non-seasonal’ time series that exhibits patterns and is not a random white noise can be modeled with ARIMA models.\r\n",
        "\r\n",
        "An ARIMA model is characterized by 3 terms: p, d, q\r\n",
        "\r\n",
        "where,"
      ]
    },
    {
      "cell_type": "markdown",
      "metadata": {
        "id": "K2l0VSEczaKs"
      },
      "source": [
        "p is the order of the AR term\r\n",
        "\r\n",
        "q is the order of the MA term\r\n",
        "\r\n",
        "d is the number of differencing required to make the time series stationary\r\n",
        "\r\n",
        "If a time series, has seasonal patterns, then you need to add seasonal terms and it becomes SARIMA, short for ‘Seasonal ARIMA’. More on that once we finish ARIMA.\r\n",
        "\r\n",
        "So, what does the ‘order of AR term’ even mean? Before we go there, let’s first look at the ‘d’ term\r\n"
      ]
    },
    {
      "cell_type": "markdown",
      "metadata": {
        "id": "pvI3mBEx0NIL"
      },
      "source": [
        " **What does the p, d and q in ARIMA model mean**\r\n",
        "The first step to build an ARIMA model is to make the time series stationary.\r\n",
        "\r\n",
        "Why?\r\n",
        "\r\n",
        "Because, term ‘Auto Regressive’ in ARIMA means it is a linear regression model that uses its own lags as predictors. Linear regression models, as you know, work best when the predictors are not correlated and are independent of each other.\r\n",
        "\r\n",
        "So how to make a series stationary?\r\n",
        "\r\n",
        "The most common approach is to difference it. That is, subtract the previous value from the current value. Sometimes, depending on the complexity of the series, more than one differencing may be needed.\r\n",
        "\r\n",
        "The value of d, therefore, is the minimum number of differencing needed to make the series stationary. And if the time series is already stationary, then d = 0.\r\n",
        "\r\n",
        "Next, what are the ‘p’ and ‘q’ terms?\r\n",
        "\r\n",
        "‘p’ is the order of the ‘Auto Regressive’ (AR) term. It refers to the number of lags of Y to be used as predictors. And ‘q’ is the order of the ‘Moving Average’ (MA) term. It refers to the number of lagged forecast errors that should go into the ARIMA Model."
      ]
    },
    {
      "cell_type": "markdown",
      "metadata": {
        "id": "Vk00RPKE1dyc"
      },
      "source": [
        "**What are AR and MA models**\r\n",
        "So what are AR and MA models? what is the actual mathematical formula for the AR and MA models?\r\n",
        "\r\n",
        "\r\n",
        "\r\n",
        "*   A pure Auto Regressive (AR only) model is one where Yt depends only on its own lags. That is, Yt is a function of the ‘lags of Yt’.\r\n",
        "\r\n",
        "\r\n",
        "\r\n",
        "\r\n",
        "\r\n",
        "*   Likewise a pure Moving Average (MA only) model is one where Yt depends only on the lagged forecast errors.\r\n",
        "\r\n",
        "\r\n",
        "\r\n",
        "\r\n"
      ]
    },
    {
      "cell_type": "markdown",
      "metadata": {
        "id": "n2fq8Q1Z2LTr"
      },
      "source": [
        "**what does the equation of an ARIMA model look like?**\r\n",
        "Predicted Yt = Constant + Linear combination Lags of Y (upto p lags) + Linear Combination of Lagged forecast errors (upto q lags)"
      ]
    },
    {
      "cell_type": "markdown",
      "metadata": {
        "id": "Iju33sWy3975"
      },
      "source": [
        "** How to find the order of differencing (d) in ARIMA model**\r\n",
        "ANS----\r\n",
        "\r\n",
        "1.   The purpose of differencing it to make the time series stationary.\r\n",
        "2.   First, I am going to check if the series is stationary using the Augmented Dickey Fuller test (adfuller()), from the statsmodels package.\r\n",
        "\r\n",
        "Why?\r\n",
        "\r\n",
        "Because, you need differencing only if the series is non-stationary. Else, no differencing is needed, that is, d=0.\r\n",
        "\r\n",
        "The null hypothesis of the ADF test is that the time series is non-stationary. So, if the p-value of the test is less than the significance level (0.05) then you reject the null hypothesis and infer that the time series is indeed stationary.\r\n",
        "\r\n",
        "So, in our case, if P Value > 0.05 we go ahead with finding the order of differencing\r\n",
        "\r\n"
      ]
    },
    {
      "cell_type": "markdown",
      "metadata": {
        "id": "raBV0W7X54ui"
      },
      "source": [
        "**How to find the order of the AR term (p)**\r\n",
        "The next step is to identify if the model needs any AR terms. You can find out the required number of AR terms by inspecting the Partial Autocorrelation (PACF) plot.\r\n",
        "\r\n",
        "But what is PACF?\r\n",
        "\r\n",
        "Partial autocorrelation can be imagined as the correlation between the series and its lag, after excluding the contributions from the intermediate lags. So, PACF sort of conveys the pure correlation between a lag and the series. That way, you will know if that lag is needed in the AR term or not"
      ]
    },
    {
      "cell_type": "markdown",
      "metadata": {
        "id": "_cpWyySj6bnN"
      },
      "source": [
        "**how to find the number of AR terms?**\r\n",
        "Any autocorrelation in a stationarized series can be rectified by adding enough AR terms. So, we initially take the order of AR term to be equal to as many lags that crosses the significance limit in the PACF plot."
      ]
    },
    {
      "cell_type": "markdown",
      "metadata": {
        "id": "j2sNK3Am7RSd"
      },
      "source": [
        "**How to find the order of the MA term (q)**\r\n",
        "Just like how we looked at the PACF plot for the number of AR terms, you can look at the ACF plot for the number of MA terms. An MA term is technically, the error of the lagged forecast."
      ]
    },
    {
      "cell_type": "markdown",
      "metadata": {
        "id": "kp7-sZOY7g2s"
      },
      "source": [
        "# How to handle if a time series is slightly under or over differenced\r\n",
        "It may so happen that your series is slightly under differenced, that differencing it one more time makes it slightly over-differenced.\r\n",
        "\r\n",
        "How to handle this case?\r\n",
        "\r\n",
        "If your series is slightly under differenced, adding one or more additional AR terms usually makes it up. Likewise, if it is slightly over-differenced, try adding an additional MA term."
      ]
    },
    {
      "cell_type": "markdown",
      "metadata": {
        "id": "ESge5JlY7sNY"
      },
      "source": [
        "# How to build the ARIMA Model\r\n",
        "Now that you’ve determined the values of p, d and q, you have everything needed to fit the ARIMA model. Let’s use the ARIMA() implementation in statsmodels package"
      ]
    },
    {
      "cell_type": "code",
      "metadata": {
        "id": "y1tN7v1BzTlX"
      },
      "source": [
        ""
      ],
      "execution_count": null,
      "outputs": []
    }
  ]
}